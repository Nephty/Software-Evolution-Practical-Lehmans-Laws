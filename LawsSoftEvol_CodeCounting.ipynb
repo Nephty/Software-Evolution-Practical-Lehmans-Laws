{
 "cells": [
  {
   "cell_type": "markdown",
   "id": "978a24fe-cb2e-4efc-a2e5-28e910e871d2",
   "metadata": {},
   "source": [
    "# Software Evolution - Practical Session\n",
    "## Laws of software evolution based on code counting\n",
    "## Academic year 2023-2024"
   ]
  },
  {
   "cell_type": "markdown",
   "id": "57eb142c-d3ef-4d5e-94cb-d521369b384b",
   "metadata": {},
   "source": [
    "### Write your answers under the questions that are present in this notebook  \n",
    "\n",
    "#### Note: Print the final output of each cell in this notebook\n",
    "\n",
    "#### Read the provided description document before proceeding with the following notebook"
   ]
  },
  {
   "cell_type": "markdown",
   "id": "ccaca368",
   "metadata": {},
   "source": [
    "## 1.  Data preprocessing"
   ]
  },
  {
   "cell_type": "markdown",
   "id": "4cd4e141",
   "metadata": {},
   "source": [
    "To install packages, use :\n",
    "\n",
    "pip install tqdm  pandas numpy matplotlib scikit-learn"
   ]
  },
  {
   "cell_type": "code",
   "execution_count": null,
   "id": "55d3a082-512b-40e6-95bf-27191ea9aaaa",
   "metadata": {},
   "outputs": [],
   "source": [
    "import pandas as pd\n",
    "import numpy as np\n",
    "import matplotlib.pyplot as plt\n",
    "from sklearn.linear_model import LinearRegression\n",
    "from permetrics.regression import RegressionMetric\n",
    "from scipy.optimize import curve_fit"
   ]
  },
  {
   "cell_type": "markdown",
   "id": "3d293335",
   "metadata": {},
   "source": [
    "### Import dataset"
   ]
  },
  {
   "cell_type": "markdown",
   "id": "45cea0b5",
   "metadata": {},
   "source": [
    "First, import the dataset that contains the total lines of code, total blank lines, total comment lines, total number of files, and release date for each tag."
   ]
  },
  {
   "cell_type": "code",
   "execution_count": null,
   "id": "6bcf7103",
   "metadata": {},
   "outputs": [],
   "source": [
    "# WRITE YOUR CODE HERE"
   ]
  },
  {
   "cell_type": "markdown",
   "id": "9aab3c2b",
   "metadata": {},
   "source": [
    "### Dataset A : Major.Minor.Patch tag format"
   ]
  },
  {
   "cell_type": "markdown",
   "id": "1eb9dc47",
   "metadata": {},
   "source": [
    "Filter out non-official releases such as alpha, beta, release candidates, milestones, branches, and unnumbered tags. Additionally, version numbers typically follow a Major.Minor.Patch format, but exceptions exist (e.g., 1.4, 3.3.0.1, 4.3.0.1, or 4.3.1.1). Versions with more than three components are disregarded, and two-component versions are treated as implicit three-component versions (e.g., 1.4 is interpreted as 1.4.0).  \n",
    "\n",
    "Write a regular expression statement to identify tags following semantic versioning (major.minor.patch) guidelines. You can use the pattern: '^v?[0-9]+\\.[0-9]+(\\.[0-9]+)?$'  \n",
    "\n",
    "Once you've applied this regex, print out the selected major.minor.patch dataset."
   ]
  },
  {
   "cell_type": "code",
   "execution_count": null,
   "id": "d50191e3",
   "metadata": {},
   "outputs": [],
   "source": [
    "# WRITE YOUR CODE HERE"
   ]
  },
  {
   "cell_type": "markdown",
   "id": "2c320daf",
   "metadata": {},
   "source": [
    "### Dataset B : Major.Minor tag format"
   ]
  },
  {
   "cell_type": "markdown",
   "id": "b5e7fcc0",
   "metadata": {},
   "source": [
    "Starting from the previous data (**Dataset A**),  for each Major.Minor.Patch tag group, select the earliest version (e.g., for a set of 4.4.0, 4.4.1, and 4.4.2, consider 4.4.0 and rename it to 4.4)."
   ]
  },
  {
   "cell_type": "code",
   "execution_count": null,
   "metadata": {},
   "outputs": [],
   "source": []
  },
  {
   "cell_type": "code",
   "execution_count": null,
   "metadata": {},
   "outputs": [],
   "source": []
  },
  {
   "cell_type": "code",
   "execution_count": null,
   "id": "61b37da0",
   "metadata": {},
   "outputs": [],
   "source": [
    "# WRITE YOUR CODE HERE"
   ]
  },
  {
   "cell_type": "markdown",
   "id": "22b44ce7",
   "metadata": {},
   "source": [
    "## 2. Law of Increasing Growth"
   ]
  },
  {
   "cell_type": "markdown",
   "id": "5635bd4d-979b-44a2-ae4a-1962b170445a",
   "metadata": {},
   "source": [
    "### Software project's metrics"
   ]
  },
  {
   "cell_type": "markdown",
   "id": "b8d9fa11",
   "metadata": {},
   "source": [
    "Visualize four plots representing the evolution of a software project's metrics, including the number of lines of code, blank lines, comment lines, and the number of files, as follows:  \n",
    "\n",
    "1. Plot the metrics against software version numbers:  \n",
    "   1.1) For version tags of the format major.minor.patch.  \n",
    "   1.2) For version tags of the format major.minor.  \n",
    "   Place these plots at positions (0,0) and (0,1) respectively.  \n",
    "  \n",
    "2. Plot the metrics against dates:  \n",
    "   2.1) For version tags of the format major.minor.patch.  \n",
    "   2.2) For version tags of the format major.minor.  \n",
    "   Place these plots right below the corresponding version-based plots, at positions (1,0) and (1,1).  "
   ]
  },
  {
   "cell_type": "markdown",
   "id": "ff549a00",
   "metadata": {},
   "source": [
    "Hint: Ensure proper datetime formatting for the dates in the datasets instead of storing them as strings.\n",
    "\n",
    "For example, if you're working with a DataFrame:\n",
    "\n",
    "fig, axes = plt.subplots(2, 2, figsize=(18, 10))  \n",
    "dataset_a[['code', 'blank', 'comment', 'nFiles', 'tag']].plot(x='tag', ax=axes[0, 0], legend=True)  \n",
    ".....  \n",
    "\n",
    "axes[0, 0].set_xlabel('Major.Minor.Patch versions')  \n",
    ".....  \n",
    "\n",
    "plt.tight_layout()  \n",
    "plt.show()"
   ]
  },
  {
   "cell_type": "code",
   "execution_count": null,
   "id": "4d24f7e3",
   "metadata": {},
   "outputs": [],
   "source": [
    "# WRITE YOUR CODE HERE"
   ]
  },
  {
   "cell_type": "markdown",
   "id": "8774bc4c-9131-425d-b8d2-9d0940e48f6c",
   "metadata": {},
   "source": [
    "### Questions:"
   ]
  },
  {
   "cell_type": "markdown",
   "id": "b0df7e73",
   "metadata": {},
   "source": [
    "1. Do you find any difference between the plot that is having date in the x-axis and the plot that is having tag in the x-axis? If yes, then what is the difference? If no, then why is it same?"
   ]
  },
  {
   "cell_type": "markdown",
   "id": "b03dae7d-de25-4146-baf6-d8bfd2419549",
   "metadata": {},
   "source": []
  },
  {
   "cell_type": "markdown",
   "id": "edf025c5-9edc-440d-9bee-5dbdf20431bc",
   "metadata": {},
   "source": [
    "2. Which type of plot is preferable for software evolution analysis?   \n",
    "    a) date in x-axis  \n",
    "    b) tag in x-axis  \n",
    "Why?"
   ]
  },
  {
   "cell_type": "markdown",
   "id": "ea949023-d96b-4fdd-9027-d453bdf51e99",
   "metadata": {},
   "source": []
  },
  {
   "cell_type": "markdown",
   "id": "c7cc92a4-8386-4359-b041-ce267552a09a",
   "metadata": {},
   "source": [
    "### Correlation "
   ]
  },
  {
   "cell_type": "markdown",
   "id": "6e66cd3d",
   "metadata": {},
   "source": [
    "Correlation is generally used to analyse the relationship between variables. Here, analyse the relationship between the number of lines of code and the number of files using Spearman correlation and Pearson correlation by considering **Dataset A**. Report the correlation upto 3 decimal places."
   ]
  },
  {
   "cell_type": "code",
   "execution_count": null,
   "id": "36ab77b2",
   "metadata": {},
   "outputs": [],
   "source": [
    "# WRITE YOUR CODE HERE"
   ]
  },
  {
   "cell_type": "markdown",
   "id": "3e8f82aa-ce42-4355-8de1-916e371f5af2",
   "metadata": {},
   "source": [
    "### Questions:"
   ]
  },
  {
   "cell_type": "markdown",
   "id": "b065f92e",
   "metadata": {},
   "source": [
    "3. Do you find any difference in correlation values between Pearson and Spearman? Which correlation measure is preferable for this use case? why?"
   ]
  },
  {
   "cell_type": "markdown",
   "id": "b6e1599e-113c-4bfa-9c0b-eac18aae3a27",
   "metadata": {},
   "source": []
  },
  {
   "cell_type": "markdown",
   "id": "fb9a8312-20fd-41f7-875e-668761a998a6",
   "metadata": {},
   "source": [
    "4. Based on the above correlation value, please give your opinion on the relation between the number of lines and the number of files? Which of both size metrics do you propose to use in the remainder of your analysis?"
   ]
  },
  {
   "cell_type": "markdown",
   "id": "4ebe75dc-cb80-469b-909d-ca4293365f25",
   "metadata": {},
   "source": []
  },
  {
   "cell_type": "markdown",
   "id": "1d00cba6",
   "metadata": {},
   "source": [
    "### Regression analysis"
   ]
  },
  {
   "cell_type": "markdown",
   "id": "87fe695f",
   "metadata": {},
   "source": [
    "Visualize a linear regression analysis of the relationship between the release date and the total number of files by considering **Dataset B**.  \n",
    "\n",
    "Hint:\n",
    "\n",
    "1. Prepare the data: Convert the release date to integers and set number of files as the target variable.  \n",
    "2. Apply linear regression analysis to understand the relationship between the release date and the total number of files.  \n",
    "3. Calculate Mean Relative Error and ajusted R-squared metrics.    \n",
    "4. Generate a scatter plot showing the release dates against the total number of files. Then, overlay the linear regression line on the plot.\n"
   ]
  },
  {
   "cell_type": "code",
   "execution_count": null,
   "id": "1e08cf52",
   "metadata": {},
   "outputs": [],
   "source": [
    "# WRITE YOUR CODE HERE"
   ]
  },
  {
   "cell_type": "markdown",
   "id": "6e39b2bd",
   "metadata": {},
   "source": [
    "### Questions:"
   ]
  },
  {
   "cell_type": "markdown",
   "id": "6110bbae-e381-43ec-9a51-72bf941e3ced",
   "metadata": {},
   "source": [
    "5. Choose an option regarding the growth of the software. Motivate your choice using the 2D regression plot.  \n",
    "    a) Linear  \n",
    "    b) Sub-linear  \n",
    "    c) Super-linear  "
   ]
  },
  {
   "cell_type": "markdown",
   "id": "73826ddc",
   "metadata": {},
   "source": []
  },
  {
   "cell_type": "markdown",
   "id": "6223f5f6",
   "metadata": {},
   "source": [
    "6. Report the MRE and ajusted R-squared values."
   ]
  },
  {
   "cell_type": "markdown",
   "id": "c0d32f0a",
   "metadata": {},
   "source": []
  },
  {
   "cell_type": "markdown",
   "id": "72e2ea6c-cb13-4dae-8666-ed599c928efe",
   "metadata": {},
   "source": [
    "### Fitting & forecasting"
   ]
  },
  {
   "cell_type": "markdown",
   "id": "6e9519ee",
   "metadata": {},
   "source": [
    "Using **Dataset A**, apply parametric regression models (e.g., linear, exponential, power, quadratic, logarithmic) to predict the number of files in software releases based on historical data.\n",
    "\n",
    "**Steps:**\n",
    "\n",
    "1. Prepare Data:\n",
    "   - Convert \"release_date\" to datetime format.\n",
    "   - Calculate \"release_days\" as the number of days since the earliest release.\n",
    "\n",
    "2. Split Data:\n",
    "   - Separate data into features (release days) and target variable (number of files).\n",
    "   - Split data into training and testing sets from the earliest release up to a specific point.\n",
    "\n",
    "3. Build and Train Models:\n",
    "   - Define regression models.\n",
    "   - Fit models to training data (maybe using `curve_fit` from SciPy).\n",
    "\n",
    "4. Forecast Future Data:\n",
    "   - Predict the number of files for future release days using trained models.\n",
    "\n",
    "5. Visualize Results:\n",
    "   - Plot original data and forecasted values for each regression model.\n",
    "\n",
    "6. Evaluate Models:\n",
    "   - Calculate adjusted R-squared and mean relative error for each model using training and test data."
   ]
  },
  {
   "cell_type": "code",
   "execution_count": null,
   "id": "d806bfce",
   "metadata": {},
   "outputs": [],
   "source": [
    "# WRITE YOUR CODE HERE"
   ]
  },
  {
   "cell_type": "code",
   "execution_count": null,
   "id": "e25590be",
   "metadata": {},
   "outputs": [],
   "source": [
    "# WRITE YOUR CODE HERE"
   ]
  },
  {
   "cell_type": "code",
   "execution_count": null,
   "id": "991f9d69",
   "metadata": {},
   "outputs": [],
   "source": [
    "# WRITE YOUR CODE HERE"
   ]
  },
  {
   "cell_type": "code",
   "execution_count": null,
   "id": "8e6216a7",
   "metadata": {},
   "outputs": [],
   "source": [
    "# WRITE YOUR CODE HERE"
   ]
  },
  {
   "cell_type": "code",
   "execution_count": null,
   "id": "40a30b0f",
   "metadata": {},
   "outputs": [],
   "source": [
    "# WRITE YOUR CODE HERE"
   ]
  },
  {
   "cell_type": "code",
   "execution_count": null,
   "id": "39686471",
   "metadata": {},
   "outputs": [],
   "source": [
    "# WRITE YOUR CODE HERE"
   ]
  },
  {
   "cell_type": "markdown",
   "id": "8bdd2798-1e93-4beb-8339-4e408d3c39c2",
   "metadata": {},
   "source": [
    "### Questions:"
   ]
  },
  {
   "cell_type": "markdown",
   "id": "1252f335",
   "metadata": {},
   "source": [
    "7. Which regression model do you prefer for assessing the goodness of fit, based on the evaluation metrics scores? Why?"
   ]
  },
  {
   "cell_type": "markdown",
   "id": "f3c421f9-c6f2-4350-8ded-a70a974c86d0",
   "metadata": {},
   "source": []
  },
  {
   "cell_type": "markdown",
   "id": "6a98e16e-1114-4f4b-9867-3f60019ee45f",
   "metadata": {},
   "source": [
    "8. Which regression model do you prefer for assessing forecast accuracy, based on the evaluation metrics scores? Why?"
   ]
  },
  {
   "cell_type": "markdown",
   "id": "0954e7aa-cedd-4f1b-bce2-7793c0cf04c7",
   "metadata": {},
   "source": []
  },
  {
   "cell_type": "markdown",
   "id": "375ae835-c18c-4af3-a730-32d853df034a",
   "metadata": {},
   "source": [
    "### Modify the CLOC parameters"
   ]
  },
  {
   "cell_type": "markdown",
   "id": "b3d71b90-1492-4833-9c0a-c8a0f7446ada",
   "metadata": {},
   "source": [
    "Exclude all bank lines and verify if the Law of Increasing Growth applies after this filtering"
   ]
  },
  {
   "cell_type": "code",
   "execution_count": null,
   "id": "ff129b14-94ae-460c-bcb3-981180e72db3",
   "metadata": {},
   "outputs": [],
   "source": [
    "# WRITE YOUR CODE HERE"
   ]
  },
  {
   "cell_type": "markdown",
   "id": "5cb0cee6-19b3-4e50-8cb5-82eb50736713",
   "metadata": {},
   "source": [
    "Exclude all comment lines and verify if the Law of Increasing Growth applies after this filtering"
   ]
  },
  {
   "cell_type": "code",
   "execution_count": null,
   "id": "7d971a34-fe97-4793-9864-07b2114ed373",
   "metadata": {},
   "outputs": [],
   "source": [
    "# WRITE YOUR CODE HERE"
   ]
  },
  {
   "cell_type": "markdown",
   "id": "5dfd05d1-2dc8-4abc-8d05-639007bf553e",
   "metadata": {},
   "source": [
    "## 3. Law of Continuing Change"
   ]
  },
  {
   "cell_type": "markdown",
   "id": "1e8a1b50",
   "metadata": {},
   "source": [
    "### Dataset A : Major.Minor.Patch tag format"
   ]
  },
  {
   "cell_type": "markdown",
   "id": "344011c9",
   "metadata": {},
   "source": [
    "Import Dataset A that contains number of lines of code that are added, modified, removed and same between two consecutive tags for the three component versions (major.minor.patch)"
   ]
  },
  {
   "cell_type": "code",
   "execution_count": null,
   "id": "b4a3163d",
   "metadata": {},
   "outputs": [],
   "source": [
    "# WRITE YOUR CODE HERE"
   ]
  },
  {
   "cell_type": "markdown",
   "id": "a3ab8b71",
   "metadata": {},
   "source": [
    "Create a plot displaying all features together. Show the outcomes with dates on the x-axis and the corresponding numbers on the y-axis."
   ]
  },
  {
   "cell_type": "code",
   "execution_count": null,
   "id": "cd1c6265",
   "metadata": {},
   "outputs": [],
   "source": [
    "# WRITE YOUR CODE HERE"
   ]
  },
  {
   "cell_type": "markdown",
   "id": "6e4b001a",
   "metadata": {},
   "source": [
    "### Dataset B : Major.Minor tag format"
   ]
  },
  {
   "cell_type": "markdown",
   "id": "508271cd",
   "metadata": {},
   "source": [
    "Import Dataset B that contains number of lines of code that are added, modified, removed and same between two consecutive tags for the minor versions (major.minor)"
   ]
  },
  {
   "cell_type": "code",
   "execution_count": null,
   "id": "5e8e7efa",
   "metadata": {},
   "outputs": [],
   "source": [
    "# WRITE YOUR CODE HERE"
   ]
  },
  {
   "cell_type": "markdown",
   "id": "9f55b7aa",
   "metadata": {},
   "source": [
    "Produce a plot where all features are represented together. Present the outcomes with dates on the x-axis and the corresponding numbers on the y-axis."
   ]
  },
  {
   "cell_type": "code",
   "execution_count": null,
   "id": "680aefdd",
   "metadata": {},
   "outputs": [],
   "source": [
    "# WRITE YOUR CODE HERE"
   ]
  },
  {
   "cell_type": "markdown",
   "id": "a96114cb-aafb-4c57-8bff-af5d309b1994",
   "metadata": {},
   "source": [
    "### Question:"
   ]
  },
  {
   "cell_type": "markdown",
   "id": "ed4c4cbc",
   "metadata": {},
   "source": [
    "1. Do you find empirical support for the Law of Continuing Change ? Motivate your response."
   ]
  },
  {
   "cell_type": "markdown",
   "id": "131fe261-c978-434d-824f-f6e416fb6110",
   "metadata": {},
   "source": []
  }
 ],
 "metadata": {
  "kernelspec": {
   "display_name": "Python 3",
   "language": "python",
   "name": "python3"
  },
  "language_info": {
   "codemirror_mode": {
    "name": "ipython",
    "version": 3
   },
   "file_extension": ".py",
   "mimetype": "text/x-python",
   "name": "python",
   "nbconvert_exporter": "python",
   "pygments_lexer": "ipython3",
   "version": "3.11.5"
  }
 },
 "nbformat": 4,
 "nbformat_minor": 5
}
